{
  "nbformat": 4,
  "nbformat_minor": 0,
  "metadata": {
    "colab": {
      "name": "sc_review.ipynb",
      "provenance": []
    },
    "kernelspec": {
      "name": "python3",
      "display_name": "Python 3"
    },
    "accelerator": "GPU"
  },
  "cells": [
    {
      "cell_type": "code",
      "metadata": {
        "id": "ql7Q6N22GNQK"
      },
      "source": [
        "from tensorflow import keras\n",
        "import numpy as np\n",
        "import pandas as pd\n",
        "import matplotlib.pyplot as plt\n",
        "from sklearn.model_selection import train_test_split\n",
        "from sklearn.model_selection import KFold\n",
        "from sklearn.preprocessing import StandardScaler\n",
        "from keras.models import Sequential\n",
        "from keras.layers import Dense\n",
        "from keras.layers import LSTM\n",
        "from keras.layers import Dropout\n",
        "from sklearn.metrics import classification_report\n",
        "from sklearn.metrics import confusion_matrix\n",
        "from sklearn.metrics import accuracy_score"
      ],
      "execution_count": null,
      "outputs": []
    },
    {
      "cell_type": "markdown",
      "metadata": {
        "id": "rNQpOvX8G15J"
      },
      "source": [
        ""
      ]
    },
    {
      "cell_type": "code",
      "metadata": {
        "id": "g5DzQ1UoG2Wd",
        "outputId": "3b7cb6dc-8bad-4512-9585-855a96c043d2",
        "colab": {
          "base_uri": "https://localhost:8080/",
          "height": 350
        }
      },
      "source": [
        "\n",
        "data = pd.read_csv('combine.csv')\n",
        "data.head()"
      ],
      "execution_count": null,
      "outputs": [
        {
          "output_type": "stream",
          "text": [
            "/usr/local/lib/python3.6/dist-packages/IPython/core/interactiveshell.py:2718: DtypeWarning: Columns (0) have mixed types.Specify dtype option on import or set low_memory=False.\n",
            "  interactivity=interactivity, compiler=compiler, result=result)\n"
          ],
          "name": "stderr"
        },
        {
          "output_type": "execute_result",
          "data": {
            "text/html": [
              "<div>\n",
              "<style scoped>\n",
              "    .dataframe tbody tr th:only-of-type {\n",
              "        vertical-align: middle;\n",
              "    }\n",
              "\n",
              "    .dataframe tbody tr th {\n",
              "        vertical-align: top;\n",
              "    }\n",
              "\n",
              "    .dataframe thead th {\n",
              "        text-align: right;\n",
              "    }\n",
              "</style>\n",
              "<table border=\"1\" class=\"dataframe\">\n",
              "  <thead>\n",
              "    <tr style=\"text-align: right;\">\n",
              "      <th></th>\n",
              "      <th>hour+minute</th>\n",
              "      <th>hour</th>\n",
              "      <th>minute</th>\n",
              "      <th>second</th>\n",
              "      <th>Number of announcements</th>\n",
              "      <th>Number of withdrawals</th>\n",
              "      <th>Number of announced NLRI prefixes</th>\n",
              "      <th>Number of withdrawn NLRI prefixes</th>\n",
              "      <th>Average AS-path length</th>\n",
              "      <th>Maximum AS-path length</th>\n",
              "      <th>Average unique AS-path length</th>\n",
              "      <th>Number of duplicate announcements</th>\n",
              "      <th>Number of duplicate withdrawals</th>\n",
              "      <th>Number of implicit withdrawals</th>\n",
              "      <th>Average edit distance</th>\n",
              "      <th>Maximum edit distance</th>\n",
              "      <th>Inter-arrival time</th>\n",
              "      <th>Maximum edit distance = 7</th>\n",
              "      <th>Maximum edit distance = 8</th>\n",
              "      <th>Maximum edit distance = 9</th>\n",
              "      <th>Maximum edit distance = 10</th>\n",
              "      <th>Maximum edit distance = 11</th>\n",
              "      <th>Maximum edit distance = 12</th>\n",
              "      <th>Maximum edit distance = 13</th>\n",
              "      <th>Maximum edit distance = 14</th>\n",
              "      <th>Maximum edit distance = 15</th>\n",
              "      <th>Maximum edit distance = 16</th>\n",
              "      <th>Maximum edit distance = 17</th>\n",
              "      <th>Maximum AS-path length = 7</th>\n",
              "      <th>Maximum AS-path length = 8</th>\n",
              "      <th>Maximum AS-path length = 9</th>\n",
              "      <th>Maximum AS-path length = 10</th>\n",
              "      <th>Maximum AS-path length = 11</th>\n",
              "      <th>Maximum AS-path length = 12</th>\n",
              "      <th>Maximum AS-path length = 13</th>\n",
              "      <th>Maximum AS-path length = 14</th>\n",
              "      <th>Maximum AS-path length = 15</th>\n",
              "      <th>Number of Interior Gateway Protocol (IGP) packets</th>\n",
              "      <th>Number of Exterior Gateway Protocol (EGP) packets</th>\n",
              "      <th>Number of incomplete packets</th>\n",
              "      <th>Packet size (B)</th>\n",
              "      <th>Label</th>\n",
              "    </tr>\n",
              "  </thead>\n",
              "  <tbody>\n",
              "    <tr>\n",
              "      <th>0</th>\n",
              "      <td>0</td>\n",
              "      <td>0.0</td>\n",
              "      <td>0.0</td>\n",
              "      <td>0.0</td>\n",
              "      <td>57.0</td>\n",
              "      <td>8.0</td>\n",
              "      <td>203.0</td>\n",
              "      <td>16.0</td>\n",
              "      <td>6.0</td>\n",
              "      <td>15.0</td>\n",
              "      <td>6.0</td>\n",
              "      <td>206.0</td>\n",
              "      <td>150.0</td>\n",
              "      <td>20.0</td>\n",
              "      <td>6.0</td>\n",
              "      <td>100.0</td>\n",
              "      <td>2.0</td>\n",
              "      <td>0.0</td>\n",
              "      <td>0.0</td>\n",
              "      <td>0.0</td>\n",
              "      <td>0.0</td>\n",
              "      <td>1.0</td>\n",
              "      <td>0.0</td>\n",
              "      <td>0.0</td>\n",
              "      <td>0.0</td>\n",
              "      <td>0.0</td>\n",
              "      <td>0.0</td>\n",
              "      <td>0.0</td>\n",
              "      <td>0.0</td>\n",
              "      <td>0.0</td>\n",
              "      <td>0.0</td>\n",
              "      <td>0.0</td>\n",
              "      <td>0.0</td>\n",
              "      <td>0.0</td>\n",
              "      <td>0.0</td>\n",
              "      <td>0.0</td>\n",
              "      <td>0.0</td>\n",
              "      <td>60.0</td>\n",
              "      <td>0.0</td>\n",
              "      <td>0.0</td>\n",
              "      <td>8079.0</td>\n",
              "      <td>-1.0</td>\n",
              "    </tr>\n",
              "    <tr>\n",
              "      <th>1</th>\n",
              "      <td>1</td>\n",
              "      <td>0.0</td>\n",
              "      <td>1.0</td>\n",
              "      <td>0.0</td>\n",
              "      <td>62.0</td>\n",
              "      <td>23.0</td>\n",
              "      <td>361.0</td>\n",
              "      <td>75.0</td>\n",
              "      <td>6.0</td>\n",
              "      <td>16.0</td>\n",
              "      <td>6.0</td>\n",
              "      <td>398.0</td>\n",
              "      <td>355.0</td>\n",
              "      <td>120.0</td>\n",
              "      <td>6.0</td>\n",
              "      <td>1.1</td>\n",
              "      <td>3.0</td>\n",
              "      <td>0.0</td>\n",
              "      <td>0.0</td>\n",
              "      <td>0.0</td>\n",
              "      <td>0.0</td>\n",
              "      <td>0.0</td>\n",
              "      <td>1.0</td>\n",
              "      <td>0.0</td>\n",
              "      <td>0.0</td>\n",
              "      <td>0.0</td>\n",
              "      <td>0.0</td>\n",
              "      <td>0.0</td>\n",
              "      <td>0.0</td>\n",
              "      <td>0.0</td>\n",
              "      <td>0.0</td>\n",
              "      <td>0.0</td>\n",
              "      <td>0.0</td>\n",
              "      <td>0.0</td>\n",
              "      <td>0.0</td>\n",
              "      <td>0.0</td>\n",
              "      <td>0.0</td>\n",
              "      <td>68.0</td>\n",
              "      <td>0.0</td>\n",
              "      <td>0.0</td>\n",
              "      <td>9515.0</td>\n",
              "      <td>-1.0</td>\n",
              "    </tr>\n",
              "    <tr>\n",
              "      <th>2</th>\n",
              "      <td>2</td>\n",
              "      <td>0.0</td>\n",
              "      <td>2.0</td>\n",
              "      <td>0.0</td>\n",
              "      <td>74.0</td>\n",
              "      <td>12.0</td>\n",
              "      <td>398.0</td>\n",
              "      <td>23.0</td>\n",
              "      <td>6.0</td>\n",
              "      <td>12.0</td>\n",
              "      <td>6.0</td>\n",
              "      <td>433.0</td>\n",
              "      <td>323.0</td>\n",
              "      <td>28.0</td>\n",
              "      <td>7.0</td>\n",
              "      <td>1.2</td>\n",
              "      <td>3.0</td>\n",
              "      <td>0.0</td>\n",
              "      <td>1.0</td>\n",
              "      <td>0.0</td>\n",
              "      <td>0.0</td>\n",
              "      <td>0.0</td>\n",
              "      <td>0.0</td>\n",
              "      <td>0.0</td>\n",
              "      <td>0.0</td>\n",
              "      <td>0.0</td>\n",
              "      <td>0.0</td>\n",
              "      <td>1.0</td>\n",
              "      <td>0.0</td>\n",
              "      <td>0.0</td>\n",
              "      <td>0.0</td>\n",
              "      <td>0.0</td>\n",
              "      <td>0.0</td>\n",
              "      <td>0.0</td>\n",
              "      <td>0.0</td>\n",
              "      <td>0.0</td>\n",
              "      <td>0.0</td>\n",
              "      <td>75.0</td>\n",
              "      <td>0.0</td>\n",
              "      <td>0.0</td>\n",
              "      <td>8632.0</td>\n",
              "      <td>-1.0</td>\n",
              "    </tr>\n",
              "    <tr>\n",
              "      <th>3</th>\n",
              "      <td>3</td>\n",
              "      <td>0.0</td>\n",
              "      <td>3.0</td>\n",
              "      <td>0.0</td>\n",
              "      <td>70.0</td>\n",
              "      <td>4.0</td>\n",
              "      <td>543.0</td>\n",
              "      <td>49.0</td>\n",
              "      <td>6.0</td>\n",
              "      <td>27.0</td>\n",
              "      <td>6.0</td>\n",
              "      <td>568.0</td>\n",
              "      <td>210.0</td>\n",
              "      <td>72.0</td>\n",
              "      <td>8.0</td>\n",
              "      <td>1.1</td>\n",
              "      <td>3.0</td>\n",
              "      <td>0.0</td>\n",
              "      <td>0.0</td>\n",
              "      <td>0.0</td>\n",
              "      <td>0.0</td>\n",
              "      <td>0.0</td>\n",
              "      <td>0.0</td>\n",
              "      <td>0.0</td>\n",
              "      <td>0.0</td>\n",
              "      <td>0.0</td>\n",
              "      <td>0.0</td>\n",
              "      <td>0.0</td>\n",
              "      <td>1.0</td>\n",
              "      <td>0.0</td>\n",
              "      <td>0.0</td>\n",
              "      <td>0.0</td>\n",
              "      <td>0.0</td>\n",
              "      <td>0.0</td>\n",
              "      <td>0.0</td>\n",
              "      <td>0.0</td>\n",
              "      <td>0.0</td>\n",
              "      <td>72.0</td>\n",
              "      <td>0.0</td>\n",
              "      <td>0.0</td>\n",
              "      <td>9227.0</td>\n",
              "      <td>-1.0</td>\n",
              "    </tr>\n",
              "    <tr>\n",
              "      <th>4</th>\n",
              "      <td>4</td>\n",
              "      <td>0.0</td>\n",
              "      <td>4.0</td>\n",
              "      <td>0.0</td>\n",
              "      <td>51.0</td>\n",
              "      <td>4.0</td>\n",
              "      <td>347.0</td>\n",
              "      <td>4.0</td>\n",
              "      <td>5.0</td>\n",
              "      <td>8.0</td>\n",
              "      <td>5.0</td>\n",
              "      <td>439.0</td>\n",
              "      <td>263.0</td>\n",
              "      <td>5.0</td>\n",
              "      <td>6.0</td>\n",
              "      <td>0.8</td>\n",
              "      <td>2.0</td>\n",
              "      <td>0.0</td>\n",
              "      <td>0.0</td>\n",
              "      <td>0.0</td>\n",
              "      <td>0.0</td>\n",
              "      <td>0.0</td>\n",
              "      <td>0.0</td>\n",
              "      <td>0.0</td>\n",
              "      <td>0.0</td>\n",
              "      <td>0.0</td>\n",
              "      <td>0.0</td>\n",
              "      <td>0.0</td>\n",
              "      <td>0.0</td>\n",
              "      <td>0.0</td>\n",
              "      <td>0.0</td>\n",
              "      <td>0.0</td>\n",
              "      <td>0.0</td>\n",
              "      <td>0.0</td>\n",
              "      <td>0.0</td>\n",
              "      <td>0.0</td>\n",
              "      <td>0.0</td>\n",
              "      <td>52.0</td>\n",
              "      <td>0.0</td>\n",
              "      <td>0.0</td>\n",
              "      <td>7831.0</td>\n",
              "      <td>-1.0</td>\n",
              "    </tr>\n",
              "  </tbody>\n",
              "</table>\n",
              "</div>"
            ],
            "text/plain": [
              "  hour+minute  hour  ...  Packet size (B)  Label\n",
              "0           0   0.0  ...           8079.0   -1.0\n",
              "1           1   0.0  ...           9515.0   -1.0\n",
              "2           2   0.0  ...           8632.0   -1.0\n",
              "3           3   0.0  ...           9227.0   -1.0\n",
              "4           4   0.0  ...           7831.0   -1.0\n",
              "\n",
              "[5 rows x 42 columns]"
            ]
          },
          "metadata": {
            "tags": []
          },
          "execution_count": 4
        }
      ]
    },
    {
      "cell_type": "code",
      "metadata": {
        "id": "XBSLxV3D5w8a",
        "outputId": "bfed8e86-97f1-4146-ffff-b9ef51d1d863",
        "colab": {
          "base_uri": "https://localhost:8080/"
        }
      },
      "source": [
        "data.columns"
      ],
      "execution_count": null,
      "outputs": [
        {
          "output_type": "execute_result",
          "data": {
            "text/plain": [
              "Index(['hour+minute', 'hour', 'minute', 'second', 'Number of announcements',\n",
              "       'Number of withdrawals', 'Number of announced NLRI prefixes',\n",
              "       'Number of withdrawn NLRI prefixes', 'Average AS-path length',\n",
              "       'Maximum AS-path length', 'Average unique AS-path length',\n",
              "       'Number of duplicate announcements', 'Number of duplicate withdrawals',\n",
              "       'Number of implicit withdrawals', 'Average edit distance',\n",
              "       'Maximum edit distance', 'Inter-arrival time',\n",
              "       'Maximum edit distance = 7', 'Maximum edit distance = 8',\n",
              "       'Maximum edit distance = 9', 'Maximum edit distance = 10',\n",
              "       'Maximum edit distance = 11', 'Maximum edit distance = 12',\n",
              "       'Maximum edit distance = 13', 'Maximum edit distance = 14',\n",
              "       'Maximum edit distance = 15', 'Maximum edit distance = 16',\n",
              "       'Maximum edit distance = 17', 'Maximum AS-path length = 7',\n",
              "       'Maximum AS-path length = 8', 'Maximum AS-path length = 9',\n",
              "       'Maximum AS-path length = 10', 'Maximum AS-path length = 11',\n",
              "       'Maximum AS-path length = 12', 'Maximum AS-path length = 13',\n",
              "       'Maximum AS-path length = 14', 'Maximum AS-path length = 15',\n",
              "       'Number of Interior Gateway Protocol (IGP) packets',\n",
              "       'Number of Exterior Gateway Protocol (EGP) packets',\n",
              "       'Number of incomplete packets', 'Packet size (B)', 'Label'],\n",
              "      dtype='object')"
            ]
          },
          "metadata": {
            "tags": []
          },
          "execution_count": 5
        }
      ]
    },
    {
      "cell_type": "code",
      "metadata": {
        "id": "AGcdvuyp1_u4",
        "outputId": "c7053e6f-91ca-4323-a150-d59ef445fa05",
        "colab": {
          "base_uri": "https://localhost:8080/"
        }
      },
      "source": [
        "print(data.groupby('Label').size())"
      ],
      "execution_count": null,
      "outputs": [
        {
          "output_type": "stream",
          "text": [
            "Label\n",
            "-1.0    28120\n",
            " 1.0     4965\n",
            "dtype: int64\n"
          ],
          "name": "stdout"
        }
      ]
    },
    {
      "cell_type": "code",
      "metadata": {
        "id": "ZQeXJTnXTTs3"
      },
      "source": [
        "data['Label'] = data['Label'].apply(lambda x: 0 if x == -1 else 1)"
      ],
      "execution_count": null,
      "outputs": []
    },
    {
      "cell_type": "code",
      "metadata": {
        "id": "OWf7wm8wWDJe",
        "outputId": "3a6e5228-4e6c-4b1a-db09-7873e4ace9e1",
        "colab": {
          "base_uri": "https://localhost:8080/"
        }
      },
      "source": [
        "data['Label']"
      ],
      "execution_count": null,
      "outputs": [
        {
          "output_type": "execute_result",
          "data": {
            "text/plain": [
              "0        0\n",
              "1        0\n",
              "2        0\n",
              "3        0\n",
              "4        0\n",
              "        ..\n",
              "33081    0\n",
              "33082    0\n",
              "33083    0\n",
              "33084    0\n",
              "33085    1\n",
              "Name: Label, Length: 33086, dtype: int64"
            ]
          },
          "metadata": {
            "tags": []
          },
          "execution_count": 8
        }
      ]
    },
    {
      "cell_type": "code",
      "metadata": {
        "id": "JgpjYmwWGSwD",
        "outputId": "8194abe3-73a5-4f7c-9643-31903e9e6649",
        "colab": {
          "base_uri": "https://localhost:8080/"
        }
      },
      "source": [
        "data.shape"
      ],
      "execution_count": null,
      "outputs": [
        {
          "output_type": "execute_result",
          "data": {
            "text/plain": [
              "(33086, 42)"
            ]
          },
          "metadata": {
            "tags": []
          },
          "execution_count": 9
        }
      ]
    },
    {
      "cell_type": "code",
      "metadata": {
        "id": "I6aq2J9TCGlI",
        "outputId": "134a36a1-28e4-40f7-fd69-4e30cf878010",
        "colab": {
          "base_uri": "https://localhost:8080/"
        }
      },
      "source": [
        "data.dtypes"
      ],
      "execution_count": null,
      "outputs": [
        {
          "output_type": "execute_result",
          "data": {
            "text/plain": [
              "hour+minute                                           object\n",
              "hour                                                 float64\n",
              "minute                                               float64\n",
              "second                                               float64\n",
              "Number of announcements                              float64\n",
              "Number of withdrawals                                float64\n",
              "Number of announced NLRI prefixes                    float64\n",
              "Number of withdrawn NLRI prefixes                    float64\n",
              "Average AS-path length                               float64\n",
              "Maximum AS-path length                               float64\n",
              "Average unique AS-path length                        float64\n",
              "Number of duplicate announcements                    float64\n",
              "Number of duplicate withdrawals                      float64\n",
              "Number of implicit withdrawals                       float64\n",
              "Average edit distance                                float64\n",
              "Maximum edit distance                                float64\n",
              "Inter-arrival time                                   float64\n",
              "Maximum edit distance = 7                            float64\n",
              "Maximum edit distance = 8                            float64\n",
              "Maximum edit distance = 9                            float64\n",
              "Maximum edit distance = 10                           float64\n",
              "Maximum edit distance = 11                           float64\n",
              "Maximum edit distance = 12                           float64\n",
              "Maximum edit distance = 13                           float64\n",
              "Maximum edit distance = 14                           float64\n",
              "Maximum edit distance = 15                           float64\n",
              "Maximum edit distance = 16                           float64\n",
              "Maximum edit distance = 17                           float64\n",
              "Maximum AS-path length = 7                           float64\n",
              "Maximum AS-path length = 8                           float64\n",
              "Maximum AS-path length = 9                           float64\n",
              "Maximum AS-path length = 10                          float64\n",
              "Maximum AS-path length = 11                          float64\n",
              "Maximum AS-path length = 12                          float64\n",
              "Maximum AS-path length = 13                          float64\n",
              "Maximum AS-path length = 14                          float64\n",
              "Maximum AS-path length = 15                          float64\n",
              "Number of Interior Gateway Protocol (IGP) packets    float64\n",
              "Number of Exterior Gateway Protocol (EGP) packets    float64\n",
              "Number of incomplete packets                         float64\n",
              "Packet size (B)                                      float64\n",
              "Label                                                  int64\n",
              "dtype: object"
            ]
          },
          "metadata": {
            "tags": []
          },
          "execution_count": 10
        }
      ]
    },
    {
      "cell_type": "code",
      "metadata": {
        "id": "Cdbwh-E3FoxU"
      },
      "source": [
        "data=data.drop('hour+minute',axis=1)"
      ],
      "execution_count": null,
      "outputs": []
    },
    {
      "cell_type": "code",
      "metadata": {
        "id": "hogIxcyM8g-u",
        "outputId": "b44a2cbe-8284-4879-e8c3-2df52840e9e8",
        "colab": {
          "base_uri": "https://localhost:8080/",
          "height": 269
        }
      },
      "source": [
        "data.plot(kind='density', subplots=True, layout=(5,10), sharex=False, legend=False, fontsize=10)\n",
        "plt.show()"
      ],
      "execution_count": null,
      "outputs": [
        {
          "output_type": "display_data",
          "data": {
            "image/png": "[encoded data removed]",
            "text/plain": [
              "<Figure size 432x288 with 50 Axes>"
            ]
          },
          "metadata": {
            "tags": [],
            "needs_background": "light"
          }
        }
      ]
    },
    {
      "cell_type": "code",
      "metadata": {
        "id": "eZtT8ps59XXR",
        "outputId": "e4e1f279-404d-4316-d167-6576874ae506",
        "colab": {
          "base_uri": "https://localhost:8080/",
          "height": 281
        }
      },
      "source": [
        "from matplotlib import cm as cm\n",
        "\n",
        "fig = plt.figure()\n",
        "ax1 = fig.add_subplot(111)\n",
        "cmap = cm.get_cmap('jet', 30)\n",
        "cax = ax1.imshow(data.corr(), interpolation=\"none\", cmap=cmap)\n",
        "ax1.grid(True)\n",
        "plt.title('Attributes Correlation')\n",
        "fig.colorbar(cax, ticks=[.75,.8,.85,.90,.95,1])\n",
        "plt.show()"
      ],
      "execution_count": null,
      "outputs": [
        {
          "output_type": "display_data",
          "data": {
            "image/png": "[encoded data removed]",
            "text/plain": [
              "<Figure size 432x288 with 2 Axes>"
            ]
          },
          "metadata": {
            "tags": [],
            "needs_background": "light"
          }
        }
      ]
    },
    {
      "cell_type": "code",
      "metadata": {
        "id": "m2S4t54T_od5"
      },
      "source": [
        "Y = data['Label'].values\n",
        "X = data.drop('Label', axis=1).values"
      ],
      "execution_count": null,
      "outputs": []
    },
    {
      "cell_type": "code",
      "metadata": {
        "id": "oscW0u_tQejR",
        "outputId": "fde7543c-2bfd-4e48-def7-b4281a3d2411",
        "colab": {
          "base_uri": "https://localhost:8080/"
        }
      },
      "source": [
        "Y = np.reshape(Y,(33086,1))\n",
        "Y.shape"
      ],
      "execution_count": null,
      "outputs": [
        {
          "output_type": "execute_result",
          "data": {
            "text/plain": [
              "(33086, 1)"
            ]
          },
          "metadata": {
            "tags": []
          },
          "execution_count": 15
        }
      ]
    },
    {
      "cell_type": "code",
      "metadata": {
        "id": "8qbonBZ0Oay8"
      },
      "source": [
        "scaler = StandardScaler().fit(X)\n",
        "rescaledX = scaler.transform(X)"
      ],
      "execution_count": null,
      "outputs": []
    },
    {
      "cell_type": "code",
      "metadata": {
        "id": "DnB66PZyN28z"
      },
      "source": [
        "rescaledX = np.reshape(rescaledX,(33086,40,1))"
      ],
      "execution_count": null,
      "outputs": []
    },
    {
      "cell_type": "code",
      "metadata": {
        "id": "BSRp6VeUQ0TU",
        "outputId": "08ed606a-cbe6-419f-c27d-7bf31c7f93e4",
        "colab": {
          "base_uri": "https://localhost:8080/"
        }
      },
      "source": [
        "rescaledX.shape"
      ],
      "execution_count": null,
      "outputs": [
        {
          "output_type": "execute_result",
          "data": {
            "text/plain": [
              "(33086, 40, 1)"
            ]
          },
          "metadata": {
            "tags": []
          },
          "execution_count": 18
        }
      ]
    },
    {
      "cell_type": "code",
      "metadata": {
        "id": "s3K88at3OWEY"
      },
      "source": [
        "x_train,x_test,y_train,y_test = train_test_split(rescaledX,Y,test_size=0.20,random_state=21)"
      ],
      "execution_count": null,
      "outputs": []
    },
    {
      "cell_type": "code",
      "metadata": {
        "id": "iyqwEY6Qtfcj",
        "outputId": "cae9aaf0-445b-41b1-c7d0-13c5ac906254",
        "colab": {
          "base_uri": "https://localhost:8080/"
        }
      },
      "source": [
        "y_train"
      ],
      "execution_count": null,
      "outputs": [
        {
          "output_type": "execute_result",
          "data": {
            "text/plain": [
              "array([[0],\n",
              "       [0],\n",
              "       [0],\n",
              "       ...,\n",
              "       [0],\n",
              "       [1],\n",
              "       [1]])"
            ]
          },
          "metadata": {
            "tags": []
          },
          "execution_count": 20
        }
      ]
    },
    {
      "cell_type": "code",
      "metadata": {
        "id": "B-FcooJjPAd8",
        "outputId": "4144ceef-26e4-420f-cbe1-80506d83bedc",
        "colab": {
          "base_uri": "https://localhost:8080/"
        }
      },
      "source": [
        "regressor = Sequential()\n",
        "\n",
        "regressor.add(LSTM(units = 50, return_sequences = True, input_shape =(40,1)))\n",
        "regressor.add(Dropout(0.2))\n",
        "\n",
        "regressor.add(LSTM(units = 100, return_sequences = True))\n",
        "regressor.add(Dropout(0.2))\n",
        "\n",
        "regressor.add(LSTM(units = 100, return_sequences = True))\n",
        "regressor.add(Dropout(0.2))\n",
        "\n",
        "regressor.add(LSTM(units = 50))\n",
        "regressor.add(Dropout(0.2))\n",
        "\n",
        "regressor.add(Dense(units = 1,activation='sigmoid'))\n",
        "\n",
        "regressor.compile(optimizer = 'adam', loss = 'binary_crossentropy',metrics=['accuracy'])\n",
        "\n",
        "regressor.fit(x_train, y_train, epochs = 15, batch_size = 30, verbose=1, validation_split=0.2)"
      ],
      "execution_count": null,
      "outputs": [
        {
          "output_type": "stream",
          "text": [
            "Epoch 1/15\n",
            "706/706 [==============================] - 10s 14ms/step - loss: 0.4341 - accuracy: 0.8448 - val_loss: nan - val_accuracy: 0.8561\n",
            "Epoch 2/15\n",
            "706/706 [==============================] - 9s 13ms/step - loss: 0.4293 - accuracy: 0.8458 - val_loss: nan - val_accuracy: 0.8561\n",
            "Epoch 3/15\n",
            "706/706 [==============================] - 9s 12ms/step - loss: 0.4325 - accuracy: 0.8458 - val_loss: nan - val_accuracy: 0.8561\n",
            "Epoch 4/15\n",
            "706/706 [==============================] - 9s 12ms/step - loss: 0.4317 - accuracy: 0.8458 - val_loss: nan - val_accuracy: 0.8561\n",
            "Epoch 5/15\n",
            "706/706 [==============================] - 9s 13ms/step - loss: 0.4315 - accuracy: 0.8458 - val_loss: nan - val_accuracy: 0.8561\n",
            "Epoch 6/15\n",
            "706/706 [==============================] - 9s 12ms/step - loss: 0.4250 - accuracy: 0.8458 - val_loss: nan - val_accuracy: 0.8561\n",
            "Epoch 7/15\n",
            "706/706 [==============================] - 9s 13ms/step - loss: 0.3781 - accuracy: 0.8458 - val_loss: nan - val_accuracy: 0.8561\n",
            "Epoch 8/15\n",
            "706/706 [==============================] - 9s 12ms/step - loss: 0.3690 - accuracy: 0.8458 - val_loss: nan - val_accuracy: 0.8561\n",
            "Epoch 9/15\n",
            "706/706 [==============================] - 9s 12ms/step - loss: 0.3663 - accuracy: 0.8458 - val_loss: nan - val_accuracy: 0.8561\n",
            "Epoch 10/15\n",
            "706/706 [==============================] - 9s 13ms/step - loss: 0.3645 - accuracy: 0.8458 - val_loss: nan - val_accuracy: 0.8561\n",
            "Epoch 11/15\n",
            "706/706 [==============================] - 9s 13ms/step - loss: 0.3629 - accuracy: 0.8458 - val_loss: nan - val_accuracy: 0.8561\n",
            "Epoch 12/15\n",
            "706/706 [==============================] - 9s 13ms/step - loss: 0.3605 - accuracy: 0.8458 - val_loss: nan - val_accuracy: 0.8561\n",
            "Epoch 13/15\n",
            "706/706 [==============================] - 9s 13ms/step - loss: 0.3596 - accuracy: 0.8458 - val_loss: nan - val_accuracy: 0.8561\n",
            "Epoch 14/15\n",
            "706/706 [==============================] - 9s 12ms/step - loss: 0.3593 - accuracy: 0.8458 - val_loss: nan - val_accuracy: 0.8561\n",
            "Epoch 15/15\n",
            "706/706 [==============================] - 9s 12ms/step - loss: 0.3587 - accuracy: 0.8458 - val_loss: nan - val_accuracy: 0.8561\n"
          ],
          "name": "stdout"
        },
        {
          "output_type": "execute_result",
          "data": {
            "text/plain": [
              "<tensorflow.python.keras.callbacks.History at 0x7f18aa651b38>"
            ]
          },
          "metadata": {
            "tags": []
          },
          "execution_count": 21
        }
      ]
    },
    {
      "cell_type": "code",
      "metadata": {
        "id": "jjnO2hiQTOaf"
      },
      "source": [
        " y_pred=regressor.predict(x_test)\n",
        " y_pred = np.reshape(y_pred,(6618))\n",
        " y_pred=list(y_pred)"
      ],
      "execution_count": null,
      "outputs": []
    },
    {
      "cell_type": "code",
      "metadata": {
        "id": "6WycHaELvRID"
      },
      "source": [
        "for i,val in zip(range(6618),y_pred):\n",
        "  if val>=0.5:\n",
        "    y_pred[i]=1\n",
        "  else:\n",
        "    y_pred[i]=0"
      ],
      "execution_count": null,
      "outputs": []
    },
    {
      "cell_type": "code",
      "metadata": {
        "id": "bTSbxJQQsf7p"
      },
      "source": [
        "train_acc = regressor.evaluate(x_train, y_train, verbose=0)\n",
        "test_acc = regressor.evaluate(x_test, y_test, verbose=0)"
      ],
      "execution_count": null,
      "outputs": []
    },
    {
      "cell_type": "code",
      "metadata": {
        "id": "cxetF-DqsxEo",
        "outputId": "59099262-ae2a-41a2-c82a-c4bb6bb319d1",
        "colab": {
          "base_uri": "https://localhost:8080/"
        }
      },
      "source": [
        "print(train_acc)\n",
        "print(test_acc)"
      ],
      "execution_count": null,
      "outputs": [
        {
          "output_type": "stream",
          "text": [
            "[nan, 0.8478540182113647]\n",
            "[0.34345415234565735, 0.8581142425537109]\n"
          ],
          "name": "stdout"
        }
      ]
    },
    {
      "cell_type": "code",
      "metadata": {
        "id": "T63q6i_TwZpC"
      },
      "source": [
        "matrix = confusion_matrix(y_test, y_pred)"
      ],
      "execution_count": null,
      "outputs": []
    },
    {
      "cell_type": "code",
      "metadata": {
        "id": "wEbz-npuwxa2",
        "outputId": "6a7cad88-380f-4552-e2cb-5157ed0f419a",
        "colab": {
          "base_uri": "https://localhost:8080/"
        }
      },
      "source": [
        "matrix"
      ],
      "execution_count": null,
      "outputs": [
        {
          "output_type": "execute_result",
          "data": {
            "text/plain": [
              "array([[5679,    0],\n",
              "       [ 939,    0]])"
            ]
          },
          "metadata": {
            "tags": []
          },
          "execution_count": 27
        }
      ]
    },
    {
      "cell_type": "code",
      "metadata": {
        "id": "r0i5aqhKw4vp",
        "outputId": "aee8652c-b1b6-4a76-c85e-d95c0e73bd51",
        "colab": {
          "base_uri": "https://localhost:8080/"
        }
      },
      "source": [
        "from sklearn.metrics import classification_report\n",
        "print(classification_report(y_test,y_pred))\n"
      ],
      "execution_count": null,
      "outputs": [
        {
          "output_type": "stream",
          "text": [
            "              precision    recall  f1-score   support\n",
            "\n",
            "           0       0.86      1.00      0.92      5679\n",
            "           1       0.00      0.00      0.00       939\n",
            "\n",
            "    accuracy                           0.86      6618\n",
            "   macro avg       0.43      0.50      0.46      6618\n",
            "weighted avg       0.74      0.86      0.79      6618\n",
            "\n"
          ],
          "name": "stdout"
        },
        {
          "output_type": "stream",
          "text": [
            "/usr/local/lib/python3.6/dist-packages/sklearn/metrics/_classification.py:1272: UndefinedMetricWarning: Precision and F-score are ill-defined and being set to 0.0 in labels with no predicted samples. Use `zero_division` parameter to control this behavior.\n",
            "  _warn_prf(average, modifier, msg_start, len(result))\n"
          ],
          "name": "stderr"
        }
      ]
    },
    {
      "cell_type": "code",
      "metadata": {
        "id": "jT1D9Dqb-rOf"
      },
      "source": [
        ""
      ],
      "execution_count": null,
      "outputs": []
    }
  ]
}