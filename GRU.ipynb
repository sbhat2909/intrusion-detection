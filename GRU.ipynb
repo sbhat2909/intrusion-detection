{
  "nbformat": 4,
  "nbformat_minor": 0,
  "metadata": {
    "colab": {
      "name": "18BIT0134 _3rd_review.ipynb",
      "provenance": [],
      "collapsed_sections": []
    },
    "kernelspec": {
      "name": "python3",
      "display_name": "Python 3"
    },
    "accelerator": "GPU"
  },
  "cells": [
    {
      "cell_type": "code",
      "metadata": {
        "id": "ql7Q6N22GNQK"
      },
      "source": [
        "from tensorflow import keras\n",
        "import numpy as np\n",
        "import pandas as pd\n",
        "import matplotlib.pyplot as plt\n",
        "from sklearn.model_selection import train_test_split\n",
        "from sklearn.model_selection import KFold\n",
        "from sklearn.preprocessing import StandardScaler\n",
        "from keras.models import Sequential\n",
        "from keras.layers import Dense\n",
        "from keras.layers import LSTM\n",
        "from keras.layers import Dropout\n",
        "from sklearn.metrics import classification_report\n",
        "from sklearn.metrics import confusion_matrix\n",
        "from sklearn.metrics import accuracy_score\n",
        "\n",
        "from keras.layers import Dense, LSTM, Dropout, GRU, Bidirectional"
      ],
      "execution_count": null,
      "outputs": []
    },
    {
      "cell_type": "markdown",
      "metadata": {
        "id": "rNQpOvX8G15J"
      },
      "source": [
        ""
      ]
    },
    {
      "cell_type": "code",
      "metadata": {
        "id": "g5DzQ1UoG2Wd",
        "colab": {
          "base_uri": "https://localhost:8080/",
          "height": 330
        },
        "outputId": "24c34b9e-2e7d-4885-f64f-22467fe53fda"
      },
      "source": [
        "data = pd.read_csv('combine1.csv')\n",
        "data.head()"
      ],
      "execution_count": null,
      "outputs": [
        {
          "output_type": "execute_result",
          "data": {
            "text/html": [
              "<div>\n",
              "<style scoped>\n",
              "    .dataframe tbody tr th:only-of-type {\n",
              "        vertical-align: middle;\n",
              "    }\n",
              "\n",
              "    .dataframe tbody tr th {\n",
              "        vertical-align: top;\n",
              "    }\n",
              "\n",
              "    .dataframe thead th {\n",
              "        text-align: right;\n",
              "    }\n",
              "</style>\n",
              "<table border=\"1\" class=\"dataframe\">\n",
              "  <thead>\n",
              "    <tr style=\"text-align: right;\">\n",
              "      <th></th>\n",
              "      <th>hour+minute</th>\n",
              "      <th>hour</th>\n",
              "      <th>minute</th>\n",
              "      <th>second</th>\n",
              "      <th>Number of announcements</th>\n",
              "      <th>Number of withdrawals</th>\n",
              "      <th>Number of announced NLRI prefixes</th>\n",
              "      <th>Number of withdrawn NLRI prefixes</th>\n",
              "      <th>Average AS-path length</th>\n",
              "      <th>Maximum AS-path length</th>\n",
              "      <th>Average unique AS-path length</th>\n",
              "      <th>Number of duplicate announcements</th>\n",
              "      <th>Number of duplicate withdrawals</th>\n",
              "      <th>Number of implicit withdrawals</th>\n",
              "      <th>Average edit distance</th>\n",
              "      <th>Maximum edit distance</th>\n",
              "      <th>Inter-arrival time</th>\n",
              "      <th>Maximum edit distance = 7</th>\n",
              "      <th>Maximum edit distance = 8</th>\n",
              "      <th>Maximum edit distance = 9</th>\n",
              "      <th>Maximum edit distance = 10</th>\n",
              "      <th>Maximum edit distance = 11</th>\n",
              "      <th>Maximum edit distance = 12</th>\n",
              "      <th>Maximum edit distance = 13</th>\n",
              "      <th>Maximum edit distance = 14</th>\n",
              "      <th>Maximum edit distance = 15</th>\n",
              "      <th>Maximum edit distance = 16</th>\n",
              "      <th>Maximum edit distance = 17</th>\n",
              "      <th>Maximum AS-path length = 7</th>\n",
              "      <th>Maximum AS-path length = 8</th>\n",
              "      <th>Maximum AS-path length = 9</th>\n",
              "      <th>Maximum AS-path length = 10</th>\n",
              "      <th>Maximum AS-path length = 11</th>\n",
              "      <th>Maximum AS-path length = 12</th>\n",
              "      <th>Maximum AS-path length = 13</th>\n",
              "      <th>Maximum AS-path length = 14</th>\n",
              "      <th>Maximum AS-path length = 15</th>\n",
              "      <th>Number of Interior Gateway Protocol (IGP) packets</th>\n",
              "      <th>Number of Exterior Gateway Protocol (EGP) packets</th>\n",
              "      <th>Number of incomplete packets</th>\n",
              "      <th>Packet size (B)</th>\n",
              "      <th>Label</th>\n",
              "    </tr>\n",
              "  </thead>\n",
              "  <tbody>\n",
              "    <tr>\n",
              "      <th>0</th>\n",
              "      <td>0</td>\n",
              "      <td>0</td>\n",
              "      <td>0</td>\n",
              "      <td>0</td>\n",
              "      <td>57</td>\n",
              "      <td>8</td>\n",
              "      <td>203</td>\n",
              "      <td>16</td>\n",
              "      <td>6</td>\n",
              "      <td>15</td>\n",
              "      <td>6</td>\n",
              "      <td>206</td>\n",
              "      <td>150</td>\n",
              "      <td>20</td>\n",
              "      <td>6</td>\n",
              "      <td>100.0</td>\n",
              "      <td>2</td>\n",
              "      <td>0</td>\n",
              "      <td>0</td>\n",
              "      <td>0</td>\n",
              "      <td>0</td>\n",
              "      <td>1</td>\n",
              "      <td>0</td>\n",
              "      <td>0</td>\n",
              "      <td>0</td>\n",
              "      <td>0</td>\n",
              "      <td>0</td>\n",
              "      <td>0</td>\n",
              "      <td>0</td>\n",
              "      <td>0</td>\n",
              "      <td>0</td>\n",
              "      <td>0</td>\n",
              "      <td>0</td>\n",
              "      <td>0</td>\n",
              "      <td>0</td>\n",
              "      <td>0</td>\n",
              "      <td>0</td>\n",
              "      <td>60</td>\n",
              "      <td>0</td>\n",
              "      <td>0</td>\n",
              "      <td>8079</td>\n",
              "      <td>-1</td>\n",
              "    </tr>\n",
              "    <tr>\n",
              "      <th>1</th>\n",
              "      <td>1</td>\n",
              "      <td>0</td>\n",
              "      <td>1</td>\n",
              "      <td>0</td>\n",
              "      <td>62</td>\n",
              "      <td>23</td>\n",
              "      <td>361</td>\n",
              "      <td>75</td>\n",
              "      <td>6</td>\n",
              "      <td>16</td>\n",
              "      <td>6</td>\n",
              "      <td>398</td>\n",
              "      <td>355</td>\n",
              "      <td>120</td>\n",
              "      <td>6</td>\n",
              "      <td>1.1</td>\n",
              "      <td>3</td>\n",
              "      <td>0</td>\n",
              "      <td>0</td>\n",
              "      <td>0</td>\n",
              "      <td>0</td>\n",
              "      <td>0</td>\n",
              "      <td>1</td>\n",
              "      <td>0</td>\n",
              "      <td>0</td>\n",
              "      <td>0</td>\n",
              "      <td>0</td>\n",
              "      <td>0</td>\n",
              "      <td>0</td>\n",
              "      <td>0</td>\n",
              "      <td>0</td>\n",
              "      <td>0</td>\n",
              "      <td>0</td>\n",
              "      <td>0</td>\n",
              "      <td>0</td>\n",
              "      <td>0</td>\n",
              "      <td>0</td>\n",
              "      <td>68</td>\n",
              "      <td>0</td>\n",
              "      <td>0</td>\n",
              "      <td>9515</td>\n",
              "      <td>-1</td>\n",
              "    </tr>\n",
              "    <tr>\n",
              "      <th>2</th>\n",
              "      <td>2</td>\n",
              "      <td>0</td>\n",
              "      <td>2</td>\n",
              "      <td>0</td>\n",
              "      <td>74</td>\n",
              "      <td>12</td>\n",
              "      <td>398</td>\n",
              "      <td>23</td>\n",
              "      <td>6</td>\n",
              "      <td>12</td>\n",
              "      <td>6</td>\n",
              "      <td>433</td>\n",
              "      <td>323</td>\n",
              "      <td>28</td>\n",
              "      <td>7</td>\n",
              "      <td>1.2</td>\n",
              "      <td>3</td>\n",
              "      <td>0</td>\n",
              "      <td>1</td>\n",
              "      <td>0</td>\n",
              "      <td>0</td>\n",
              "      <td>0</td>\n",
              "      <td>0</td>\n",
              "      <td>0</td>\n",
              "      <td>0</td>\n",
              "      <td>0</td>\n",
              "      <td>0</td>\n",
              "      <td>1</td>\n",
              "      <td>0</td>\n",
              "      <td>0</td>\n",
              "      <td>0</td>\n",
              "      <td>0</td>\n",
              "      <td>0</td>\n",
              "      <td>0</td>\n",
              "      <td>0</td>\n",
              "      <td>0</td>\n",
              "      <td>0</td>\n",
              "      <td>75</td>\n",
              "      <td>0</td>\n",
              "      <td>0</td>\n",
              "      <td>8632</td>\n",
              "      <td>-1</td>\n",
              "    </tr>\n",
              "    <tr>\n",
              "      <th>3</th>\n",
              "      <td>3</td>\n",
              "      <td>0</td>\n",
              "      <td>3</td>\n",
              "      <td>0</td>\n",
              "      <td>70</td>\n",
              "      <td>4</td>\n",
              "      <td>543</td>\n",
              "      <td>49</td>\n",
              "      <td>6</td>\n",
              "      <td>27</td>\n",
              "      <td>6</td>\n",
              "      <td>568</td>\n",
              "      <td>210</td>\n",
              "      <td>72</td>\n",
              "      <td>8</td>\n",
              "      <td>1.1</td>\n",
              "      <td>3</td>\n",
              "      <td>0</td>\n",
              "      <td>0</td>\n",
              "      <td>0</td>\n",
              "      <td>0</td>\n",
              "      <td>0</td>\n",
              "      <td>0</td>\n",
              "      <td>0</td>\n",
              "      <td>0</td>\n",
              "      <td>0</td>\n",
              "      <td>0</td>\n",
              "      <td>0</td>\n",
              "      <td>1</td>\n",
              "      <td>0</td>\n",
              "      <td>0</td>\n",
              "      <td>0</td>\n",
              "      <td>0</td>\n",
              "      <td>0</td>\n",
              "      <td>0</td>\n",
              "      <td>0</td>\n",
              "      <td>0</td>\n",
              "      <td>72</td>\n",
              "      <td>0</td>\n",
              "      <td>0</td>\n",
              "      <td>9227</td>\n",
              "      <td>-1</td>\n",
              "    </tr>\n",
              "    <tr>\n",
              "      <th>4</th>\n",
              "      <td>4</td>\n",
              "      <td>0</td>\n",
              "      <td>4</td>\n",
              "      <td>0</td>\n",
              "      <td>51</td>\n",
              "      <td>4</td>\n",
              "      <td>347</td>\n",
              "      <td>4</td>\n",
              "      <td>5</td>\n",
              "      <td>8</td>\n",
              "      <td>5</td>\n",
              "      <td>439</td>\n",
              "      <td>263</td>\n",
              "      <td>5</td>\n",
              "      <td>6</td>\n",
              "      <td>0.8</td>\n",
              "      <td>2</td>\n",
              "      <td>0</td>\n",
              "      <td>0</td>\n",
              "      <td>0</td>\n",
              "      <td>0</td>\n",
              "      <td>0</td>\n",
              "      <td>0</td>\n",
              "      <td>0</td>\n",
              "      <td>0</td>\n",
              "      <td>0</td>\n",
              "      <td>0</td>\n",
              "      <td>0</td>\n",
              "      <td>0</td>\n",
              "      <td>0</td>\n",
              "      <td>0</td>\n",
              "      <td>0</td>\n",
              "      <td>0</td>\n",
              "      <td>0</td>\n",
              "      <td>0</td>\n",
              "      <td>0</td>\n",
              "      <td>0</td>\n",
              "      <td>52</td>\n",
              "      <td>0</td>\n",
              "      <td>0</td>\n",
              "      <td>7831</td>\n",
              "      <td>-1</td>\n",
              "    </tr>\n",
              "  </tbody>\n",
              "</table>\n",
              "</div>"
            ],
            "text/plain": [
              "   hour+minute  hour  ...  Packet size (B)  Label\n",
              "0            0     0  ...             8079     -1\n",
              "1            1     0  ...             9515     -1\n",
              "2            2     0  ...             8632     -1\n",
              "3            3     0  ...             9227     -1\n",
              "4            4     0  ...             7831     -1\n",
              "\n",
              "[5 rows x 42 columns]"
            ]
          },
          "metadata": {},
          "execution_count": 4
        }
      ]
    },
    {
      "cell_type": "code",
      "metadata": {
        "id": "XBSLxV3D5w8a",
        "colab": {
          "base_uri": "https://localhost:8080/"
        },
        "outputId": "b9e49e86-f4cd-409b-b78a-e53d0672f122"
      },
      "source": [
        "data.columns"
      ],
      "execution_count": null,
      "outputs": [
        {
          "output_type": "execute_result",
          "data": {
            "text/plain": [
              "Index(['hour+minute', 'hour', 'minute', 'second', 'Number of announcements',\n",
              "       'Number of withdrawals', 'Number of announced NLRI prefixes',\n",
              "       'Number of withdrawn NLRI prefixes', 'Average AS-path length',\n",
              "       'Maximum AS-path length', 'Average unique AS-path length',\n",
              "       'Number of duplicate announcements', 'Number of duplicate withdrawals',\n",
              "       'Number of implicit withdrawals', 'Average edit distance',\n",
              "       'Maximum edit distance', 'Inter-arrival time',\n",
              "       'Maximum edit distance = 7', 'Maximum edit distance = 8',\n",
              "       'Maximum edit distance = 9', 'Maximum edit distance = 10',\n",
              "       'Maximum edit distance = 11', 'Maximum edit distance = 12',\n",
              "       'Maximum edit distance = 13', 'Maximum edit distance = 14',\n",
              "       'Maximum edit distance = 15', 'Maximum edit distance = 16',\n",
              "       'Maximum edit distance = 17', 'Maximum AS-path length = 7',\n",
              "       'Maximum AS-path length = 8', 'Maximum AS-path length = 9',\n",
              "       'Maximum AS-path length = 10', 'Maximum AS-path length = 11',\n",
              "       'Maximum AS-path length = 12', 'Maximum AS-path length = 13',\n",
              "       'Maximum AS-path length = 14', 'Maximum AS-path length = 15',\n",
              "       'Number of Interior Gateway Protocol (IGP) packets',\n",
              "       'Number of Exterior Gateway Protocol (EGP) packets',\n",
              "       'Number of incomplete packets', 'Packet size (B)', 'Label'],\n",
              "      dtype='object')"
            ]
          },
          "metadata": {},
          "execution_count": 5
        }
      ]
    },
    {
      "cell_type": "code",
      "metadata": {
        "id": "AGcdvuyp1_u4",
        "colab": {
          "base_uri": "https://localhost:8080/"
        },
        "outputId": "f02b046c-9352-4dee-85f5-c26d16617d1f"
      },
      "source": [
        "print(data.groupby('Label').size())"
      ],
      "execution_count": null,
      "outputs": [
        {
          "output_type": "stream",
          "name": "stdout",
          "text": [
            "Label\n",
            "-1    10104\n",
            " 1      600\n",
            "dtype: int64\n"
          ]
        }
      ]
    },
    {
      "cell_type": "code",
      "metadata": {
        "id": "ZQeXJTnXTTs3"
      },
      "source": [
        "data['Label'] = data['Label'].apply(lambda x: 0 if x == -1 else 1)"
      ],
      "execution_count": null,
      "outputs": []
    },
    {
      "cell_type": "code",
      "metadata": {
        "id": "OWf7wm8wWDJe",
        "colab": {
          "base_uri": "https://localhost:8080/"
        },
        "outputId": "f8f0a977-309b-4e13-af53-cc791c456154"
      },
      "source": [
        "data['Label']"
      ],
      "execution_count": null,
      "outputs": [
        {
          "output_type": "execute_result",
          "data": {
            "text/plain": [
              "0        0\n",
              "1        0\n",
              "2        0\n",
              "3        0\n",
              "4        0\n",
              "        ..\n",
              "10699    0\n",
              "10700    0\n",
              "10701    0\n",
              "10702    0\n",
              "10703    0\n",
              "Name: Label, Length: 10704, dtype: int64"
            ]
          },
          "metadata": {},
          "execution_count": 8
        }
      ]
    },
    {
      "cell_type": "code",
      "metadata": {
        "id": "JgpjYmwWGSwD",
        "colab": {
          "base_uri": "https://localhost:8080/"
        },
        "outputId": "c153883e-fb16-441d-b583-4846d5e23c52"
      },
      "source": [
        "data.shape"
      ],
      "execution_count": null,
      "outputs": [
        {
          "output_type": "execute_result",
          "data": {
            "text/plain": [
              "(10704, 42)"
            ]
          },
          "metadata": {},
          "execution_count": 9
        }
      ]
    },
    {
      "cell_type": "code",
      "metadata": {
        "id": "I6aq2J9TCGlI",
        "colab": {
          "base_uri": "https://localhost:8080/"
        },
        "outputId": "1d95d42e-6e18-4223-c245-938c548f6ebe"
      },
      "source": [
        "data.dtypes"
      ],
      "execution_count": null,
      "outputs": [
        {
          "output_type": "execute_result",
          "data": {
            "text/plain": [
              "hour+minute                                            int64\n",
              "hour                                                   int64\n",
              "minute                                                 int64\n",
              "second                                                 int64\n",
              "Number of announcements                                int64\n",
              "Number of withdrawals                                  int64\n",
              "Number of announced NLRI prefixes                      int64\n",
              "Number of withdrawn NLRI prefixes                      int64\n",
              "Average AS-path length                                 int64\n",
              "Maximum AS-path length                                 int64\n",
              "Average unique AS-path length                          int64\n",
              "Number of duplicate announcements                      int64\n",
              "Number of duplicate withdrawals                        int64\n",
              "Number of implicit withdrawals                         int64\n",
              "Average edit distance                                  int64\n",
              "Maximum edit distance                                float64\n",
              "Inter-arrival time                                     int64\n",
              "Maximum edit distance = 7                              int64\n",
              "Maximum edit distance = 8                              int64\n",
              "Maximum edit distance = 9                              int64\n",
              "Maximum edit distance = 10                             int64\n",
              "Maximum edit distance = 11                             int64\n",
              "Maximum edit distance = 12                             int64\n",
              "Maximum edit distance = 13                             int64\n",
              "Maximum edit distance = 14                             int64\n",
              "Maximum edit distance = 15                             int64\n",
              "Maximum edit distance = 16                             int64\n",
              "Maximum edit distance = 17                             int64\n",
              "Maximum AS-path length = 7                             int64\n",
              "Maximum AS-path length = 8                             int64\n",
              "Maximum AS-path length = 9                             int64\n",
              "Maximum AS-path length = 10                            int64\n",
              "Maximum AS-path length = 11                            int64\n",
              "Maximum AS-path length = 12                            int64\n",
              "Maximum AS-path length = 13                            int64\n",
              "Maximum AS-path length = 14                            int64\n",
              "Maximum AS-path length = 15                            int64\n",
              "Number of Interior Gateway Protocol (IGP) packets      int64\n",
              "Number of Exterior Gateway Protocol (EGP) packets      int64\n",
              "Number of incomplete packets                           int64\n",
              "Packet size (B)                                        int64\n",
              "Label                                                  int64\n",
              "dtype: object"
            ]
          },
          "metadata": {},
          "execution_count": 10
        }
      ]
    },
    {
      "cell_type": "code",
      "metadata": {
        "id": "Cdbwh-E3FoxU"
      },
      "source": [
        "data=data.drop('hour+minute',axis=1)"
      ],
      "execution_count": null,
      "outputs": []
    },
    {
      "cell_type": "code",
      "metadata": {
        "id": "hogIxcyM8g-u",
        "colab": {
          "base_uri": "https://localhost:8080/",
          "height": 267
        },
        "outputId": "cea290ab-4df7-4963-935e-127c81a9dc76"
      },
      "source": [
        "data.plot(kind='density', subplots=True, layout=(5,10), sharex=False, legend=False, fontsize=10)\n",
        "plt.show()"
      ],
      "execution_count": null,
      "outputs": [
        {
          "output_type": "display_data",
          "data": {
            "image/png": "[encoded data removed]",
            "text/plain": [
              "<Figure size 432x288 with 50 Axes>"
            ]
          },
          "metadata": {
            "needs_background": "light"
          }
        }
      ]
    },
    {
      "cell_type": "code",
      "metadata": {
        "id": "eZtT8ps59XXR",
        "colab": {
          "base_uri": "https://localhost:8080/",
          "height": 281
        },
        "outputId": "1479ae70-6fea-4883-def2-1513d35c8368"
      },
      "source": [
        "from matplotlib import cm as cm\n",
        "\n",
        "fig = plt.figure()\n",
        "ax1 = fig.add_subplot(111)\n",
        "cmap = cm.get_cmap('jet', 30)\n",
        "cax = ax1.imshow(data.corr(), interpolation=\"none\", cmap=cmap)\n",
        "ax1.grid(True)\n",
        "plt.title('Attributes Correlation')\n",
        "fig.colorbar(cax, ticks=[.75,.8,.85,.90,.95,1])\n",
        "plt.show()"
      ],
      "execution_count": null,
      "outputs": [
        {
          "output_type": "display_data",
          "data": {
            "image/png": "[encoded data removed]",
            "text/plain": [
              "<Figure size 432x288 with 2 Axes>"
            ]
          },
          "metadata": {
            "needs_background": "light"
          }
        }
      ]
    },
    {
      "cell_type": "code",
      "metadata": {
        "id": "m2S4t54T_od5"
      },
      "source": [
        "Y = data['Label'].values\n",
        "X = data.drop('Label', axis=1).values"
      ],
      "execution_count": null,
      "outputs": []
    },
    {
      "cell_type": "code",
      "metadata": {
        "id": "oscW0u_tQejR",
        "colab": {
          "base_uri": "https://localhost:8080/"
        },
        "outputId": "bfb57b11-5799-4d68-ccb0-b1fadbf97106"
      },
      "source": [
        "Y = np.reshape(Y,(10704,1))\n",
        "Y.shape"
      ],
      "execution_count": null,
      "outputs": [
        {
          "output_type": "execute_result",
          "data": {
            "text/plain": [
              "(10704, 1)"
            ]
          },
          "metadata": {},
          "execution_count": 16
        }
      ]
    },
    {
      "cell_type": "code",
      "metadata": {
        "id": "8qbonBZ0Oay8"
      },
      "source": [
        "scaler = StandardScaler().fit(X)\n",
        "rescaledX = scaler.transform(X)"
      ],
      "execution_count": null,
      "outputs": []
    },
    {
      "cell_type": "code",
      "metadata": {
        "id": "DnB66PZyN28z"
      },
      "source": [
        "rescaledX = np.reshape(rescaledX,(10704,40,1))"
      ],
      "execution_count": null,
      "outputs": []
    },
    {
      "cell_type": "code",
      "metadata": {
        "id": "BSRp6VeUQ0TU",
        "colab": {
          "base_uri": "https://localhost:8080/"
        },
        "outputId": "54fc0a2a-59fd-4928-9959-91787456b864"
      },
      "source": [
        "rescaledX.shape"
      ],
      "execution_count": null,
      "outputs": [
        {
          "output_type": "execute_result",
          "data": {
            "text/plain": [
              "(10704, 40, 1)"
            ]
          },
          "metadata": {},
          "execution_count": 19
        }
      ]
    },
    {
      "cell_type": "code",
      "metadata": {
        "id": "s3K88at3OWEY"
      },
      "source": [
        "x_train,x_test,y_train,y_test = train_test_split(rescaledX,Y,test_size=0.20,random_state=21)"
      ],
      "execution_count": null,
      "outputs": []
    },
    {
      "cell_type": "code",
      "metadata": {
        "id": "iyqwEY6Qtfcj",
        "colab": {
          "base_uri": "https://localhost:8080/"
        },
        "outputId": "cc32bd3f-8fc9-47a7-824e-22e1d88f2833"
      },
      "source": [
        "y_train"
      ],
      "execution_count": null,
      "outputs": [
        {
          "output_type": "execute_result",
          "data": {
            "text/plain": [
              "array([[0],\n",
              "       [0],\n",
              "       [0],\n",
              "       ...,\n",
              "       [0],\n",
              "       [0],\n",
              "       [1]])"
            ]
          },
          "metadata": {},
          "execution_count": 21
        }
      ]
    },
    {
      "cell_type": "code",
      "metadata": {
        "id": "B-FcooJjPAd8",
        "colab": {
          "base_uri": "https://localhost:8080/"
        },
        "outputId": "8c2073b6-50f5-4b01-b32a-2dab3d6c40fa"
      },
      "source": [
        "regressorGRU = Sequential()\n",
        "# First GRU layer with Dropout regularisation\n",
        "regressorGRU.add(GRU(units=50, return_sequences=True, input_shape=(x_train.shape[1],1), activation='sigmoid'))\n",
        "regressorGRU.add(Dropout(0.2))\n",
        "# Second GRU layer\n",
        "regressorGRU.add(GRU(units=50, return_sequences=True, input_shape=(x_train.shape[1],1), activation='sigmoid'))\n",
        "regressorGRU.add(Dropout(0.2))\n",
        "# Third GRU layer\n",
        "regressorGRU.add(GRU(units=50, return_sequences=True, input_shape=(x_train.shape[1],1), activation='sigmoid'))\n",
        "regressorGRU.add(Dropout(0.2))\n",
        "# Fourth GRU layer\n",
        "regressorGRU.add(GRU(units=50, activation='sigmoid'))\n",
        "regressorGRU.add(Dropout(0.2))\n",
        "# The output layer\n",
        "regressorGRU.add(Dense(units=1))\n",
        "# Compiling the RNN\n",
        "regressorGRU.compile(optimizer='adam',loss='binary_crossentropy',metrics=['accuracy'])\n",
        "# Fitting to the training set\n",
        "regressorGRU.fit(x_train,y_train,epochs=10,batch_size=50,verbose=1,validation_split=0.2)"
      ],
      "execution_count": null,
      "outputs": [
        {
          "output_type": "stream",
          "name": "stdout",
          "text": [
            "WARNING:tensorflow:Layer gru will not use cuDNN kernels since it doesn't meet the criteria. It will use a generic GPU kernel as fallback when running on GPU.\n",
            "WARNING:tensorflow:Layer gru_1 will not use cuDNN kernels since it doesn't meet the criteria. It will use a generic GPU kernel as fallback when running on GPU.\n",
            "WARNING:tensorflow:Layer gru_2 will not use cuDNN kernels since it doesn't meet the criteria. It will use a generic GPU kernel as fallback when running on GPU.\n",
            "WARNING:tensorflow:Layer gru_3 will not use cuDNN kernels since it doesn't meet the criteria. It will use a generic GPU kernel as fallback when running on GPU.\n",
            "Epoch 1/10\n",
            "137/137 [==============================] - 39s 245ms/step - loss: 0.8733 - accuracy: 0.9415 - val_loss: 0.8374 - val_accuracy: 0.9457\n",
            "Epoch 2/10\n",
            "137/137 [==============================] - 33s 239ms/step - loss: 0.8782 - accuracy: 0.9431 - val_loss: 0.8374 - val_accuracy: 0.9457\n",
            "Epoch 3/10\n",
            "137/137 [==============================] - 33s 238ms/step - loss: 0.8751 - accuracy: 0.9431 - val_loss: 0.8374 - val_accuracy: 0.9457\n",
            "Epoch 4/10\n",
            "137/137 [==============================] - 33s 239ms/step - loss: 0.8783 - accuracy: 0.9431 - val_loss: 0.8374 - val_accuracy: 0.9457\n",
            "Epoch 5/10\n",
            "137/137 [==============================] - 33s 240ms/step - loss: 0.8783 - accuracy: 0.9431 - val_loss: 0.8374 - val_accuracy: 0.9457\n",
            "Epoch 6/10\n",
            "137/137 [==============================] - 33s 242ms/step - loss: 0.8782 - accuracy: 0.9431 - val_loss: 0.8374 - val_accuracy: 0.9457\n",
            "Epoch 7/10\n",
            "137/137 [==============================] - 33s 239ms/step - loss: 0.8782 - accuracy: 0.9431 - val_loss: 0.8374 - val_accuracy: 0.9457\n",
            "Epoch 8/10\n",
            "137/137 [==============================] - 32s 237ms/step - loss: 0.8782 - accuracy: 0.9431 - val_loss: 0.8374 - val_accuracy: 0.9457\n",
            "Epoch 9/10\n",
            "137/137 [==============================] - 33s 238ms/step - loss: 0.8782 - accuracy: 0.9431 - val_loss: 0.8374 - val_accuracy: 0.9457\n",
            "Epoch 10/10\n",
            "137/137 [==============================] - 33s 240ms/step - loss: 0.8782 - accuracy: 0.9431 - val_loss: 0.8374 - val_accuracy: 0.9457\n"
          ]
        },
        {
          "output_type": "execute_result",
          "data": {
            "text/plain": [
              "<keras.callbacks.History at 0x7fe97bb5fb10>"
            ]
          },
          "metadata": {},
          "execution_count": 22
        }
      ]
    },
    {
      "cell_type": "code",
      "metadata": {
        "id": "jjnO2hiQTOaf"
      },
      "source": [
        " y_pred=regressorGRU.predict(x_test)\n",
        " y_pred = np.reshape(y_pred,(2141))\n",
        " y_pred=list(y_pred)"
      ],
      "execution_count": null,
      "outputs": []
    },
    {
      "cell_type": "code",
      "metadata": {
        "id": "6WycHaELvRID"
      },
      "source": [
        "for i,val in zip(range(2141),y_pred):\n",
        "  if val>=0.5:\n",
        "    y_pred[i]=1\n",
        "  else:\n",
        "    y_pred[i]=0"
      ],
      "execution_count": null,
      "outputs": []
    },
    {
      "cell_type": "code",
      "metadata": {
        "id": "bTSbxJQQsf7p"
      },
      "source": [
        "train_acc = regressorGRU.evaluate(x_train, y_train, verbose=0)\n",
        "test_acc = regressorGRU.evaluate(x_test, y_test, verbose=0)"
      ],
      "execution_count": null,
      "outputs": []
    },
    {
      "cell_type": "code",
      "metadata": {
        "id": "cxetF-DqsxEo",
        "colab": {
          "base_uri": "https://localhost:8080/"
        },
        "outputId": "9aa0260a-e154-4ef4-cfa8-55a38b098dd8"
      },
      "source": [
        "print(train_acc)\n",
        "print(test_acc)"
      ],
      "execution_count": null,
      "outputs": [
        {
          "output_type": "stream",
          "name": "stdout",
          "text": [
            "[0.8700518608093262, 0.9435945153236389]\n",
            "[0.8429328203201294, 0.9453526139259338]\n"
          ]
        }
      ]
    },
    {
      "cell_type": "code",
      "metadata": {
        "id": "T63q6i_TwZpC"
      },
      "source": [
        "matrix = confusion_matrix(y_test, y_pred)"
      ],
      "execution_count": null,
      "outputs": []
    },
    {
      "cell_type": "code",
      "metadata": {
        "id": "wEbz-npuwxa2",
        "colab": {
          "base_uri": "https://localhost:8080/"
        },
        "outputId": "a2ed0772-2b9c-43f6-a103-dee2e8203b23"
      },
      "source": [
        "matrix"
      ],
      "execution_count": null,
      "outputs": [
        {
          "output_type": "execute_result",
          "data": {
            "text/plain": [
              "array([[2024,    0],\n",
              "       [ 117,    0]])"
            ]
          },
          "metadata": {},
          "execution_count": 33
        }
      ]
    },
    {
      "cell_type": "code",
      "metadata": {
        "id": "Fq5onzg80cKt",
        "colab": {
          "base_uri": "https://localhost:8080/"
        },
        "outputId": "dda0c242-0499-42b1-a01d-2d3b55c3cadd"
      },
      "source": [
        "from sklearn.metrics import classification_report\n",
        "print(classification_report(y_test,y_pred))\n"
      ],
      "execution_count": null,
      "outputs": [
        {
          "output_type": "stream",
          "name": "stdout",
          "text": [
            "              precision    recall  f1-score   support\n",
            "\n",
            "           0       0.95      1.00      0.97      2024\n",
            "           1       0.00      0.00      0.00       117\n",
            "\n",
            "    accuracy                           0.95      2141\n",
            "   macro avg       0.47      0.50      0.49      2141\n",
            "weighted avg       0.89      0.95      0.92      2141\n",
            "\n"
          ]
        },
        {
          "output_type": "stream",
          "name": "stderr",
          "text": [
            "/usr/local/lib/python3.7/dist-packages/sklearn/metrics/_classification.py:1308: UndefinedMetricWarning: Precision and F-score are ill-defined and being set to 0.0 in labels with no predicted samples. Use `zero_division` parameter to control this behavior.\n",
            "  _warn_prf(average, modifier, msg_start, len(result))\n",
            "/usr/local/lib/python3.7/dist-packages/sklearn/metrics/_classification.py:1308: UndefinedMetricWarning: Precision and F-score are ill-defined and being set to 0.0 in labels with no predicted samples. Use `zero_division` parameter to control this behavior.\n",
            "  _warn_prf(average, modifier, msg_start, len(result))\n",
            "/usr/local/lib/python3.7/dist-packages/sklearn/metrics/_classification.py:1308: UndefinedMetricWarning: Precision and F-score are ill-defined and being set to 0.0 in labels with no predicted samples. Use `zero_division` parameter to control this behavior.\n",
            "  _warn_prf(average, modifier, msg_start, len(result))\n"
          ]
        }
      ]
    }
  ]
}